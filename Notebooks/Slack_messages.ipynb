{
 "cells": [
  {
   "cell_type": "code",
   "execution_count": 3,
   "metadata": {},
   "outputs": [],
   "source": [
    "import sys\n",
    "sys.path.append(\"../\")\n",
    "import SpikePy as sp\n",
    "sp.slack_code_ready(\"probando probando\", \"cd\")\n",
    "\n",
    "#Example with try-except\n",
    "try:\n",
    "    x + 3\n",
    "except Exception as e:\n",
    "    sp.slack_code_ready(\"error: \" + str(e), \"cd\")\n",
    "finally:\n",
    "    sp.slack_code_ready(\"Code is ready\", \"cd\")\n"
   ]
  },
  {
   "cell_type": "code",
   "execution_count": null,
   "metadata": {},
   "outputs": [],
   "source": []
  }
 ],
 "metadata": {
  "kernelspec": {
   "display_name": "Python 3",
   "language": "python",
   "name": "python3"
  },
  "language_info": {
   "codemirror_mode": {
    "name": "ipython",
    "version": 3
   },
   "file_extension": ".py",
   "mimetype": "text/x-python",
   "name": "python",
   "nbconvert_exporter": "python",
   "pygments_lexer": "ipython3",
   "version": "3.6.4"
  }
 },
 "nbformat": 4,
 "nbformat_minor": 2
}
